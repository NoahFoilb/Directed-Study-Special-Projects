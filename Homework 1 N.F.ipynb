{
 "cells": [
  {
   "cell_type": "markdown",
   "metadata": {
    "colab_type": "text",
    "id": "dzNng6vCL9eP"
   },
   "source": [
    "## CSC4815 Machine Learning\n",
    "Homework 1 due on 2/16 at midnight\n",
    "\n",
    "__Noah Foilb__"
   ]
  },
  {
   "cell_type": "markdown",
   "metadata": {},
   "source": [
    "Rules:\n",
    "- Solve each problem using Python in the given call and show the result using the print function.\n",
    "- Each problem can be solved in different ways. Freely design a solution in your best capability of Python programming following the instruction given to each problem. Generally, focus on avoiding redundancy in computation as much as you can. (Otherwise, machine learning will take much longer than necessary.)\n",
    "- Output can be presented in various ways. Focus on presenting an output in an intuitive and meaningful way. Take advantage of the [fancier output formatting](https://docs.python.org/3/tutorial/inputoutput.html) feature of Python.\n",
    "- You can use int, float, str, list, tuple, dictionary, and class types freely.\n",
    "- You may use function definitions, loops and conditional statements as you see fit.\n",
    "- __Do not import external modules unless specified otherwise__.\n",
    "- __Do not add additional cells__.\n",
    "- Submit the final version of this Notebook file to Blackboard. Ensure that your name is stated, the file extension is .ipynb, and it can be loaded into Jupyter Notebook. .json and .html files are not accepted."
   ]
  },
  {
   "cell_type": "markdown",
   "metadata": {},
   "source": [
    "Execute the following cell to ensure you are using Python 3 or above."
   ]
  },
  {
   "cell_type": "code",
   "execution_count": 1,
   "metadata": {
    "colab": {
     "base_uri": "https://localhost:8080/",
     "height": 34
    },
    "colab_type": "code",
    "id": "1L4Am0QATgOc",
    "outputId": "bb5ee3ac-8683-44ab-e599-a2077510f327",
    "scrolled": false
   },
   "outputs": [
    {
     "name": "stdout",
     "output_type": "stream",
     "text": [
      "Python 3.8.3\n"
     ]
    }
   ],
   "source": [
    "!python --version"
   ]
  },
  {
   "cell_type": "markdown",
   "metadata": {},
   "source": [
    "### Problem 1"
   ]
  },
  {
   "cell_type": "markdown",
   "metadata": {},
   "source": [
    "(2 points) Given two numbers $a=3$ and $b=4.5$ as the operands for a binary operator, perform addition, subtraction, multiplication, division, integer division (also called floor division), modulus, exponentiation, and not-equal operations in Python.\n",
    "\n",
    "Do not use the print function more than once in your solution.\n",
    "\n",
    "A sample outout:\n",
    "> `3 + 4.5 = 7.5`<br/>\n",
    "> `3 - 4.5 = -1.5`<br/>\n",
    "> `3 * 4.5 = 13.5`<br/>\n",
    "> `3 / 4.5 = 0.6666666666666666`<br/>\n",
    "> `3 // 4.5 = 0.0`<br/>\n",
    "> `3 % 4.5 = 3.0`<br/>\n",
    "> `3 ** 4.5 = 140.29611541307906`<br/>\n",
    "> `3 != 4.5 = True`<br/>\n"
   ]
  },
  {
   "cell_type": "code",
   "execution_count": 2,
   "metadata": {
    "scrolled": false
   },
   "outputs": [
    {
     "name": "stdout",
     "output_type": "stream",
     "text": [
      " 3 + 4.5 = 7.5 \n",
      " 3 - 4.5 = -1.5 \n",
      " 3 * 4.5 = 13.5 \n",
      " 3 / 4.5 = 0.6666666666666666 \n",
      " 3 // 4.5 = 0.0 \n",
      " 3 % 4.5 = 3.0 \n",
      " 3 ** 4.5 = 140.29611541307906 \n",
      " 3 != 4.5 = True\n"
     ]
    }
   ],
   "source": [
    "# Your solution goes here\n",
    "a = 3\n",
    "b = 4.5\n",
    "\n",
    "print(\"\",a,\"+\",b,\"=\",a+b,'\\n',                                                 # Most of this is simply formattinng print functions\n",
    "         a,\"-\",b,\"=\",a-b,\"\\n\",\n",
    "         a,\"*\",b,\"=\",a*b,\"\\n\",\n",
    "         a,\"/\",b,\"=\",a/b,\"\\n\",\n",
    "        a,\"//\",b,\"=\",a//b,\"\\n\",\n",
    "         a,\"%\",b,\"=\",a%b,\"\\n\",\n",
    "        a,\"**\",b,\"=\",a**b,\"\\n\",\n",
    "         a,\"!=\",b,\"=\",a!=b)\n",
    " \n",
    "\n",
    "\n"
   ]
  },
  {
   "cell_type": "markdown",
   "metadata": {},
   "source": [
    "### Problem 2"
   ]
  },
  {
   "cell_type": "markdown",
   "metadata": {},
   "source": [
    "(2 points) Define a list of even numbers from 4 to 40 inclusive (without typing them manually in the definition). Do the following with the list:\n",
    "\n",
    "1. Display the length and content of the list.\n",
    "2. Compute and display the sum and mean of the list.\n",
    "3. Compute and display the median of the list.\n",
    "4. Compute and display the [standard deviation](https://www.mathsisfun.com/data/standard-deviation.html) of the list up to four digits after the decimal point.\n",
    "5. Compute and display the max and min of the list.\n",
    "6. Compute the sum of the elements in the list from the fifth element to the tenth one inclusive.\n",
    "\n",
    "The output from a correct solution will be:\n",
    "\n",
    "> `#1. List of 19 even numbers between 4 and 40 inclusive: [4, 6, 8, 10, 12, 14, 16, 18, 20, 22, 24, 26, 28, 30, 32, 34, 36, 38, 40]`<br/>\n",
    "> `#2. sum=418, mean=22.0`<br/>\n",
    "> `#3. median=22`<br/>\n",
    "> `#4. standard deviation=10.9545`<br/>\n",
    "> `#5. min=4, max=40`<br/>\n",
    "> `#6. sum from 5th through 10th [12 14 16 18 20 22]=102`<br/>\n"
   ]
  },
  {
   "cell_type": "code",
   "execution_count": 3,
   "metadata": {},
   "outputs": [
    {
     "name": "stdout",
     "output_type": "stream",
     "text": [
      "#1. List of 19 even numbers between 4 and 40 inclusive: [4, 6, 8, 10, 12, 14, 16, 18, 20, 22, 24, 26, 28, 30, 32, 34, 36, 38, 40]\n",
      "#2. sum=418, mean=22.0\n",
      "#3. median=22\n",
      "#4. standard deviation=10.9545\n",
      "#5. min=4, max=40\n"
     ]
    }
   ],
   "source": [
    "# Your solution goes here\n",
    "\n",
    "                                                # 1\n",
    "Even = []                                                                 # Define Even as an empty vector\n",
    "for Int in range(4, 42, 2):                                               # For loop that to cycle through 4 - 40 by 2 steps\n",
    "    Even.append(Int)                                                      # For each loop it will keep the number in the range\n",
    "print(\"#1. List of 19 even numbers between 4 and 40 inclusive:\",Even)     # Format/Print the Result\n",
    "\n",
    "\n",
    "                                                # 2\n",
    "Sum = sum(Even)                                                           # Use sum function\n",
    "Mean = Sum/len(Even)                                                      # Find the mean by sum/number of numbers\n",
    "print(\"#2. sum=\"+str(Sum) + \",\" , \"mean=\" + str(Mean))                    # Format/Print Result\n",
    " \n",
    "\n",
    "                                                # 3\n",
    "Median = Even[int(len(Even)/2)]                                           # Median will be the middle of the vector\n",
    "print(\"#3. median=\" + str(Median))                                        # Format/Print Result\n",
    "\n",
    "\n",
    "                                                # 4\n",
    "Summation = 0                                                             # Initial Condition for loop\n",
    "for Int in range(len(Even)):                                              # Start a loop to be able to start a summation\n",
    "    Subtraction = (Even[Int] - Mean)**2 + Summation                       # Standard deviation middle values\n",
    "    Summation = Subtraction                                               # Save the vavlue per loop\n",
    "Summation = round((Summation/len(Even))**(.5),4)                          # Finish the Standard deviation\n",
    "print(\"#4. standard deviation=\" + str(Summation))                         # Format/Print Result\n",
    "\n",
    "\n",
    "                                                # 5 \n",
    "Min = min(Even)                                                           # Use min function\n",
    "Max = max(Even)                                                           # Use max function\n",
    "print(\"#5. min=\" + str(Min) + \",\", \"max=\" + str(Max))                     # Format/Print Result"
   ]
  },
  {
   "cell_type": "markdown",
   "metadata": {},
   "source": [
    "### Problem 3"
   ]
  },
  {
   "cell_type": "markdown",
   "metadata": {},
   "source": [
    "(2 points) Solve Problem 2 using `numpy` opertations only. You need to import the `numpy` module first. The correct output is the same as the output of Problem 2."
   ]
  },
  {
   "cell_type": "code",
   "execution_count": 4,
   "metadata": {},
   "outputs": [
    {
     "name": "stdout",
     "output_type": "stream",
     "text": [
      "#1. List of 19 even numbers between 4 and 40 inclusive: [ 4  6  8 10 12 14 16 18 20 22 24 26 28 30 32 34 36 38 40]\n",
      "#2. sum=418, mean=22.0\n",
      "#3. median=22\n",
      "#4. standard deviation=10.9545\n",
      "#5. min=4, max=40\n"
     ]
    }
   ],
   "source": [
    "# Your solution goes here.\n",
    "import numpy as np\n",
    "   \n",
    "                                                    # 1\n",
    "Evens = np.array(range(4,42,2))                                                         # Get the array \n",
    "print(\"#1. List of 19 even numbers between 4 and 40 inclusive:\",Evens)                  # Format/Print the result\n",
    "\n",
    "\n",
    "                                                    # 2 \n",
    "Mean = np.mean(Evens)                                                                   # Use the mean function\n",
    "Sum = np.sum(Evens)                                                                     # Use the sum function\n",
    "print(\"#2. sum=\"+str(Sum) + \",\" , \"mean=\" + str(Mean))                                  # Format/Print Result\n",
    "\n",
    "\n",
    "                                                    # 3 \n",
    "np.median(Evens)                                                                        # Use the median function\n",
    "print(\"#3. median=\" + str(Median))                                                      # Format/Print Result\n",
    "\n",
    "\n",
    "                                                    # 4\n",
    "Standard = round(np.std(Evens),4)                                                       # Find the standard deviation and round\n",
    "print(\"#4. standard deviation=\" + str(Standard))                                        # Format/Print Result\n",
    "\n",
    "                                                    # 5 \n",
    "Min = np.min(Evens)                                                                     # Use the min function\n",
    "Max = np.max(Evens)                                                                     # Use the max function\n",
    "print(\"#5. min=\" + str(Min) + \",\", \"max=\" + str(Max))                                   # Format/Print Result"
   ]
  },
  {
   "cell_type": "markdown",
   "metadata": {},
   "source": [
    "### Problem 4"
   ]
  },
  {
   "cell_type": "markdown",
   "metadata": {},
   "source": [
    "(2 points) Given the following `numpy` 2-D array,\n",
    "\n",
    "> `a = np.array([[1,2,3,4], [5,6,7,8], [9,10,11,12]])`\n",
    "\n",
    "do the following using the `numpy` operations:\n",
    "\n",
    "1. Display the shape (the dimension of each axis) of the array.\n",
    "2. Display the sum and mean of each row.\n",
    "3. Display the sum and mean of each column.\n",
    "4. Display the rows whose third column value is greater than 5."
   ]
  },
  {
   "cell_type": "code",
   "execution_count": 5,
   "metadata": {},
   "outputs": [
    {
     "name": "stdout",
     "output_type": "stream",
     "text": [
      "#1. shape=(3, 4)\n",
      "#2. sum=[10 26 42], mean=[ 2.5  6.5 10.5]\n",
      "#3. sum=[15 18 21 24], mean=[5. 6. 7. 8.]\n",
      "#4. Rows that are > 5 \n",
      " [[ 5  6  7  8]\n",
      " [ 9 10 11 12]]\n"
     ]
    }
   ],
   "source": [
    "# Your solution goes here\n",
    "\n",
    "                                                     # 1\n",
    "a = np.array([[1,2,3,4], [5,6,7,8], [9,10,11,12]])                             # Define array \n",
    "Shape = a.shape                                                                # Use shape function\n",
    "print(\"#1. shape=\"+str(Shape))                                                 # Format/Print Result\n",
    "\n",
    "                                                     # 2\n",
    "Sum1 = a.sum(axis = 1)                                                         # sum function + axis = 1 to only sum up the row\n",
    "Mean1 = a.mean(axis = 1)                                                       # mean function +....\n",
    "print(\"#2. sum=\"+str(Sum1) + \",\" , \"mean=\" + str(Mean1))                       # Format/Print Result\n",
    "\n",
    "                                                     # 3\n",
    "Sum0 = a.sum(axis = 0)                                                         # sum function + axis = 0 to only sum up the column\n",
    "Mean0 = a.mean(axis = 0)                                                       # mean function + ....\n",
    "print(\"#3. sum=\"+str(Sum0) + \",\" , \"mean=\" + str(Mean0))                       # Format/Print Result\n",
    "\n",
    "                                                    # 4\n",
    "b = a[a[:,2] > 5]                                                              # Find rows that are greater then 5\n",
    "print(\"#4. Rows that are > 5\", \"\\n\", str(b))                                   # Formate/Pritn Result\n"
   ]
  },
  {
   "cell_type": "markdown",
   "metadata": {},
   "source": [
    "### Problem 5"
   ]
  },
  {
   "cell_type": "markdown",
   "metadata": {},
   "source": [
    "(2 points) The code below demonstrates a simple way to plot numbers using the `matplotlib` module. Execute the code to see the output. To understand how the code works bettter, try the code with different values of X or add more values to X. Also, try to comment or uncomment the plt method calls in any combination."
   ]
  },
  {
   "cell_type": "code",
   "execution_count": 6,
   "metadata": {
    "scrolled": false
   },
   "outputs": [
    {
     "data": {
      "text/plain": [
       "<matplotlib.legend.Legend at 0x1b0e427b3d0>"
      ]
     },
     "execution_count": 6,
     "metadata": {},
     "output_type": "execute_result"
    },
    {
     "data": {
      "image/png": "[encoded data removed]",
      "text/plain": [
       "<Figure size 432x288 with 1 Axes>"
      ]
     },
     "metadata": {
      "needs_background": "light"
     },
     "output_type": "display_data"
    }
   ],
   "source": [
    "import numpy as np\n",
    "import matplotlib.pyplot as plt\n",
    "%matplotlib inline\n",
    "\n",
    "X = np.array([[1,5], [2,3], [3,7], [4,1], [5,2]])\n",
    "plt.plot(X[:, 0], X[:, 1], label='random sequence')    # line plot\n",
    "plt.scatter(X[:, 0], X[:, 1])                          # scatter plot\n",
    "plt.bar(X[:, 0], X[:, 1])                              # bar chart\n",
    "plt.legend()"
   ]
  },
  {
   "cell_type": "markdown",
   "metadata": {},
   "source": [
    "Your task is to plot the first 12 Fibonacci numbers and the first 12 prime numbers on a single plot. Choose the type(s) of plots in the best way you would visualize the relationship between the two number sequences."
   ]
  },
  {
   "cell_type": "code",
   "execution_count": 7,
   "metadata": {},
   "outputs": [
    {
     "data": {
      "text/plain": [
       "<matplotlib.legend.Legend at 0x1b0e432ae50>"
      ]
     },
     "execution_count": 7,
     "metadata": {},
     "output_type": "execute_result"
    },
    {
     "data": {
      "image/png": "[encoded data removed]",
      "text/plain": [
       "<Figure size 432x288 with 1 Axes>"
      ]
     },
     "metadata": {
      "needs_background": "light"
     },
     "output_type": "display_data"
    }
   ],
   "source": [
    "# Your solution goes here\n",
    "\n",
    "import numpy as np\n",
    "import matplotlib.pyplot as plt\n",
    "%matplotlib inline\n",
    "\n",
    "\n",
    "                           # I was going to/found the fibonacci numbers but rrealized it wasnt a requirement\n",
    "#Fib = np.zeros(12)\n",
    "#count = 0 \n",
    "#a,b = 0,1\n",
    "#for i in range(12):\n",
    "#    Fib[count] = a\n",
    "#    a, b = b,a+b\n",
    "#    count = count + 1\n",
    "#print(Fib)\n",
    "#Prime = [2,3,5,7,11,13,17,19,23,29,31,37]\n",
    "\n",
    "X = np.array([[2,0], [3,1], [5,1], [7,2], [11,3],[13,5],                        # Make the array\n",
    "              [17,8], [19,13], [23,21], [29,34], [31,55], [37,89]])\n",
    "\n",
    "\n",
    "plt.plot(X[:, 0], X[:, 1], label='Fibonacci numbers vs Prime numbers')          # line plot\n",
    "plt.scatter(X[:, 0], X[:, 1])                                                   # scatter plot\n",
    "plt.legend()\n",
    "\n",
    "\n",
    "# I felt the scatter + plot + legend was best to describe my data. The bar chart would not make sense and would be bulky for \n",
    "# this kind of data. \n",
    "\n"
   ]
  }
 ],
 "metadata": {
  "colab": {
   "collapsed_sections": [],
   "name": "colab-tutorial.ipynb",
   "provenance": []
  },
  "kernelspec": {
   "display_name": "Python 3",
   "language": "python",
   "name": "python3"
  },
  "language_info": {
   "codemirror_mode": {
    "name": "ipython",
    "version": 3
   },
   "file_extension": ".py",
   "mimetype": "text/x-python",
   "name": "python",
   "nbconvert_exporter": "python",
   "pygments_lexer": "ipython3",
   "version": "3.8.3"
  }
 },
 "nbformat": 4,
 "nbformat_minor": 1
}

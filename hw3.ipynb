{
 "cells": [
  {
   "cell_type": "markdown",
   "metadata": {
    "colab_type": "text",
    "id": "dzNng6vCL9eP"
   },
   "source": [
    "## CSC4815 Machine Learning\n",
    "Homework 3 due on 3/23 at midnight\n",
    "\n",
    "__Noah Foilb__"
   ]
  },
  {
   "cell_type": "markdown",
   "metadata": {},
   "source": [
    "Rules:\n",
    "- All the problems must be solved programmatically. No manual solution will be accepted. Do not hard-code constants unless they are given as parts of a problem.\n",
    "- Solve each problem only in the given cell and show the final result. Do not leave debugging information.  __Do not add cells__.\n",
    "- You may not import any external modules other than numpy, pandas, sklearn, and matplotlib. Take advantage of the code examples accompanying each sklearn API on their website.\n",
    "- Always try to make the output informative and intuitive. That's what your client will care about in the end. Add description/label to the output values.\n",
    "- <font color='red'>A solution ending with a syntax or runtime error will get zero points no matter how much you worked on it. It will be much better to submit an error-free, partial solution than a solution which never runs.</font>"
   ]
  },
  {
   "cell_type": "markdown",
   "metadata": {},
   "source": [
    "Execute the following cell to ensure you are using Python 3 or above."
   ]
  },
  {
   "cell_type": "code",
   "execution_count": 1,
   "metadata": {
    "colab": {
     "base_uri": "https://localhost:8080/",
     "height": 34
    },
    "colab_type": "code",
    "id": "1L4Am0QATgOc",
    "outputId": "bb5ee3ac-8683-44ab-e599-a2077510f327",
    "scrolled": true
   },
   "outputs": [
    {
     "name": "stdout",
     "output_type": "stream",
     "text": [
      "Python 3.8.3\n"
     ]
    }
   ],
   "source": [
    "!python --version"
   ]
  },
  {
   "cell_type": "code",
   "execution_count": 2,
   "metadata": {},
   "outputs": [],
   "source": [
    "import time\n",
    "start_time = time.time()"
   ]
  },
  {
   "cell_type": "code",
   "execution_count": 3,
   "metadata": {},
   "outputs": [],
   "source": [
    "# Preamble: \n",
    "import numpy as np\n",
    "import pandas as pd\n",
    "import matplotlib.pyplot as plt\n",
    "\n",
    "# Add sklearn import statements here\n",
    "import sklearn\n",
    "from sklearn.model_selection import train_test_split\n",
    "from sklearn.linear_model import LogisticRegression\n",
    "from sklearn.metrics import confusion_matrix\n",
    "from sklearn.metrics import accuracy_score\n",
    "from sklearn.metrics import average_precision_score\n",
    "from sklearn.metrics import roc_curve\n",
    "from sklearn.metrics import roc_auc_score\n",
    "from sklearn.metrics import plot_precision_recall_curve \n",
    "from sklearn.linear_model import SGDRegressor\n",
    "from sklearn.linear_model import SGDClassifier\n",
    "from sklearn.svm import SVC\n",
    "from sklearn.model_selection import cross_val_score\n",
    "from sklearn import preprocessing\n",
    "from sklearn.preprocessing import StandardScaler\n"
   ]
  },
  {
   "cell_type": "markdown",
   "metadata": {},
   "source": [
    "# Problem 1"
   ]
  },
  {
   "cell_type": "markdown",
   "metadata": {},
   "source": [
    "You will have a hands-on experience on Support Vector Machines with various kernels in this problem. Solve this problem in the following sequence of steps:\n",
    "\n",
    "1. Load data: (1 point) Load the accompanying dataset. Examine its schema, shape, column statistics, class label distribution, and missing value count (not by reading schema information manually). The _Class_ attribute holds the class labels.\n",
    "(<font color='green'>*Understand the dataset before you move on to the next step.*</font>)\n",
    "2. Prepare data: (2 points) Prepare dataset for training. The index feature must be dropped (<font color='green'>*Think about why this column must be dropped*</font>). Class labels must not be string constants. (Hence, you need to encode them as numbers.) Use the 70% hold-out method for train and testset separation using the **stratified split** method. Show the shapes of the training and testing sets. Show also the first and last five class labels in the training set.\n",
    "3. Train a classifier: (1 point) Train the classifier (*specified below the instruction for Step 5*) using default parameters with an exception of **random_state**. Set the **random_state** parameter to 1 for each classifier.\n",
    "4. Test the trained classifier: (2 points) Test the trained classifier  in Step 3. Show confusion matrix, accuracy, precision, recall, and f-1 score. Show up to 5 decimal digits.\n",
    "5. Plot precision and recall: (1 point) Draw the precision-recall curve for the tested classifier in Step 4. Use the **plot_precision_recall_curve** function of sklearn for this task.\n",
    "\n",
    "Repeat Steps 3, 4 and 5 for each of these classifiers in the given order: Logistic Regression, SGD Classifier, Support Vector Classifier with linear, polynomial, RBF and Sigmoid kernels. (Hence, six classification models are in total.) All of these are implemented in the sklearn library.\n",
    "\n",
    "Each step, classifier, metric, and any information displayed from your solution must be properly labeled.\n",
    "\n",
    "<font color='green'>*Once the problem is solved, take time to review the result from each classifier.*</font>"
   ]
  },
  {
   "cell_type": "code",
   "execution_count": 4,
   "metadata": {},
   "outputs": [
    {
     "name": "stdout",
     "output_type": "stream",
     "text": [
      "The Schema of the data is: \n",
      "    id  Area  MajorAxisLength  MinorAxisLength  Eccentricity  ConvexArea  \\\n",
      "0   1  4537        92.229317        64.012769      0.719916        4677   \n",
      "1   2  2872        74.691881        51.400454      0.725553        3015   \n",
      "2   3  3048        76.293164        52.043491      0.731211        3132   \n",
      "3   4  3073        77.033628        51.928487      0.738639        3157   \n",
      "4   5  3693        85.124785        56.374021      0.749282        3802   \n",
      "\n",
      "   EquivDiameter    Extent  Perimeter  Roundness  AspectRation    Class  \n",
      "0      76.004525  0.657536    273.085   0.764510      1.440796  jasmine  \n",
      "1      60.471018  0.713009    208.317   0.831658      1.453137  jasmine  \n",
      "2      62.296341  0.759153    210.012   0.868434      1.465950  jasmine  \n",
      "3      62.551300  0.783529    210.657   0.870203      1.483456  jasmine  \n",
      "4      68.571668  0.769375    230.332   0.874743      1.510000  jasmine   \n",
      " \n",
      "The Shape of the data is:  (18185, 12) \n",
      " \n",
      " The Column Statistics look like: \n",
      "                  id          Area  MajorAxisLength  MinorAxisLength  \\\n",
      "count  18185.000000  18185.000000     18185.000000     18185.000000   \n",
      "mean    9093.000000   7036.492989       151.680754        59.807851   \n",
      "std     5249.701658   1467.197150        12.376402        10.061653   \n",
      "min        1.000000   2522.000000        74.133114        34.409894   \n",
      "25%     4547.000000   5962.000000       145.675910        51.393151   \n",
      "50%     9093.000000   6660.000000       153.883750        55.724288   \n",
      "75%    13639.000000   8423.000000       160.056214        70.156593   \n",
      "max    18185.000000  10210.000000       183.211434        82.550762   \n",
      "\n",
      "       Eccentricity    ConvexArea  EquivDiameter        Extent     Perimeter  \\\n",
      "count  18185.000000  18185.000000   18185.000000  18185.000000  18185.000000   \n",
      "mean       0.915406   7225.817872      94.132952      0.616653    351.606949   \n",
      "std        0.030575   1502.006571       9.906250      0.104389     29.500620   \n",
      "min        0.676647   2579.000000      56.666658      0.383239    197.015000   \n",
      "25%        0.891617   6125.000000      87.126656      0.538530    333.990000   \n",
      "50%        0.923259   6843.000000      92.085696      0.601194    353.088000   \n",
      "75%        0.941372   8645.000000     103.559146      0.695664    373.003000   \n",
      "max        0.966774  11008.000000     114.016559      0.886573    508.511000   \n",
      "\n",
      "          Roundness  AspectRation  \n",
      "count  18185.000000  18185.000000  \n",
      "mean       0.707998      2.599081  \n",
      "std        0.067310      0.434836  \n",
      "min        0.174590      1.358128  \n",
      "25%        0.650962      2.208527  \n",
      "50%        0.701941      2.602966  \n",
      "75%        0.769280      2.964101  \n",
      "max        0.904748      3.911845   \n",
      " \n",
      "The classes consist of: ['jasmine' 'Gonen'] \n",
      " \n",
      "The number of missing values in each column: \n",
      " id                 0\n",
      "Area               0\n",
      "MajorAxisLength    0\n",
      "MinorAxisLength    0\n",
      "Eccentricity       0\n",
      "ConvexArea         0\n",
      "EquivDiameter      0\n",
      "Extent             0\n",
      "Perimeter          0\n",
      "Roundness          0\n",
      "AspectRation       0\n",
      "Class              0\n",
      "dtype: int64\n"
     ]
    }
   ],
   "source": [
    "# Your Step 1 solution goes in this cell. \n",
    "df = pd.read_csv(\"Rice-Gonen+Jasmine.csv\",delimiter=',')         # Read_csv to get data into python and delimiter to create dataframe\n",
    "                                              # Missing Value Count\n",
    "print(\"The Schema of the data is:\",\"\\n\",df.head(5),\"\\n\",\"\\n\"\n",
    "      \"The Shape of the data is: \", df.shape,\"\\n\",\"\\n\",\n",
    "      \"The Column Statistics look like:\", \"\\n\", df.describe(),\"\\n\",\"\\n\"\n",
    "      \"The classes consist of:\", df['Class'].unique(),\"\\n\",\"\\n\"\n",
    "      \"The number of missing values in each column:\",\"\\n\", df.isna().sum())"
   ]
  },
  {
   "cell_type": "code",
   "execution_count": 5,
   "metadata": {},
   "outputs": [
    {
     "name": "stdout",
     "output_type": "stream",
     "text": [
      "The shape of the Testing dataset is: (5456, 11) \n",
      "The shape of the Training dataset is: (12729, 11) \n",
      "The first five class labels in the Training dataset is: \n",
      " 1907     0\n",
      "17323    1\n",
      "13533    1\n",
      "15957    1\n",
      "7463     0\n",
      "Name: Class, dtype: int64 \n",
      "The last five class labels in the Training dataset is: \n",
      " 10955    0\n",
      "17289    1\n",
      "5192     0\n",
      "12172    1\n",
      "235      0\n",
      "Name: Class, dtype: int64\n"
     ]
    }
   ],
   "source": [
    "# Your Step 2 solution goes in this cell.\n",
    "# First lets deal with the class labels by making them constants\n",
    "df['Class'] = df['Class'].replace(['jasmine'],0)                  # Jasmines will be 0 \n",
    "df['Class'] = df['Class'].replace(['Gonen'],1)                    # Gonen will be 1 \n",
    "\n",
    "# Now lets get rid of the id column\n",
    "df.drop(['id'],axis = 1, inplace = True)                          # Drop Id\n",
    "\n",
    "# Time to get the training dataset and testing dataset\n",
    "df_train, df_test = train_test_split(df, train_size = .7, random_state=1)\n",
    "\n",
    "# Display results\n",
    "print(\"The shape of the Testing dataset is:\", df_test.shape,\"\\n\" +\n",
    "      \"The shape of the Training dataset is:\", df_train.shape,\"\\n\" +\n",
    "      \"The first five class labels in the Training dataset is:\",\"\\n\", \n",
    "      df_train['Class'].head(5),\"\\n\" + \n",
    "      \"The last five class labels in the Training dataset is:\",\"\\n\",\n",
    "      df_train['Class'].tail(5))"
   ]
  },
  {
   "cell_type": "code",
   "execution_count": 6,
   "metadata": {
    "scrolled": false
   },
   "outputs": [
    {
     "name": "stderr",
     "output_type": "stream",
     "text": [
      "C:\\Users\\nofoi\\anaconda3\\lib\\site-packages\\sklearn\\linear_model\\_logistic.py:762: ConvergenceWarning: lbfgs failed to converge (status=1):\n",
      "STOP: TOTAL NO. of ITERATIONS REACHED LIMIT.\n",
      "\n",
      "Increase the number of iterations (max_iter) or scale the data as shown in:\n",
      "    https://scikit-learn.org/stable/modules/preprocessing.html\n",
      "Please also refer to the documentation for alternative solver options:\n",
      "    https://scikit-learn.org/stable/modules/linear_model.html#logistic-regression\n",
      "  n_iter_i = _check_optimize_result(\n"
     ]
    },
    {
     "name": "stdout",
     "output_type": "stream",
     "text": [
      "For each Classification Method I will show the Confusion Matrix, Accuracy, Precision, Recall, and f-1 score. \n",
      "\n",
      " \t Logistic Regression \n",
      " Confusion Matrix: \n",
      " [[2961   27]\n",
      " [  35 2433]] \n",
      " Accuracy: 0.98864 \n",
      " Precision: 0.99096 \n",
      " Recall: 0.98832 \n",
      " f-1 score: 0.98964 \n",
      "\n",
      " \t SGD Classifier \n",
      " Confusion Matrix: \n",
      " [[2963   25]\n",
      " [  71 2397]] \n",
      " Accuracy: 0.9824 \n",
      " Precision: 0.99163 \n",
      " Recall: 0.9766 \n",
      " f-1 score: 0.98406 \n",
      "\n",
      " \t Linear Support Vector Classifier \n",
      " Confusion Matrix: \n",
      " [[2962   26]\n",
      " [  35 2433]] \n",
      " Accuracy: 0.98882 \n",
      " Precision: 0.9913 \n",
      " Recall: 0.98832 \n",
      " f-1 score: 0.98981 \n",
      "\n",
      " \t Polynomial Support Vector Classifier \n",
      " Confusion Matrix: \n",
      " [[2931   57]\n",
      " [ 324 2144]] \n",
      " Accuracy: 0.93017 \n",
      " Precision: 0.98092 \n",
      " Recall: 0.90046 \n",
      " f-1 score: 0.93897 \n",
      "\n",
      " \t RBF Support Vector Classifier \n",
      " Confusion Matrix: \n",
      " [[2936   52]\n",
      " [ 338 2130]] \n",
      " Accuracy: 0.92852 \n",
      " Precision: 0.9826 \n",
      " Recall: 0.89676 \n",
      " f-1 score: 0.93772 \n",
      "\n",
      " \t Sigmoid Support Vector Classifier \n",
      " Confusion Matrix: \n",
      " [[ 649 2339]\n",
      " [2328  140]] \n",
      " Accuracy: 0.14461 \n",
      " Precision: 0.2172 \n",
      " Recall: 0.218 \n",
      " f-1 score: 0.2176 \n",
      "\n",
      "\n"
     ]
    },
    {
     "data": {
      "image/png": "[encoded data removed]",
      "text/plain": [
       "<Figure size 432x288 with 1 Axes>"
      ]
     },
     "metadata": {
      "needs_background": "light"
     },
     "output_type": "display_data"
    },
    {
     "data": {
      "image/png": "[encoded data removed]",
      "text/plain": [
       "<Figure size 432x288 with 1 Axes>"
      ]
     },
     "metadata": {
      "needs_background": "light"
     },
     "output_type": "display_data"
    },
    {
     "data": {
      "image/png": "[encoded data removed]",
      "text/plain": [
       "<Figure size 432x288 with 1 Axes>"
      ]
     },
     "metadata": {
      "needs_background": "light"
     },
     "output_type": "display_data"
    },
    {
     "data": {
      "image/png": "[encoded data removed]",
      "text/plain": [
       "<Figure size 432x288 with 1 Axes>"
      ]
     },
     "metadata": {
      "needs_background": "light"
     },
     "output_type": "display_data"
    },
    {
     "data": {
      "image/png": "[encoded data removed]",
      "text/plain": [
       "<Figure size 432x288 with 1 Axes>"
      ]
     },
     "metadata": {
      "needs_background": "light"
     },
     "output_type": "display_data"
    },
    {
     "data": {
      "image/png": "[encoded data removed]",
      "text/plain": [
       "<Figure size 432x288 with 1 Axes>"
      ]
     },
     "metadata": {
      "needs_background": "light"
     },
     "output_type": "display_data"
    }
   ],
   "source": [
    "# Your solution for Steps 3, 4 and 5 goes in this cell.\n",
    "\n",
    "# Assign the class to be the predicted value and the rest be the predictors\n",
    "# Do this for both training data and testing data\n",
    "X = df_train.loc[:,df_train.columns != 'Class']\n",
    "Y = df_train['Class']\n",
    "X_new = df_test.loc[:,df_test.columns != 'Class']\n",
    "Y_new = df_test['Class']\n",
    "\n",
    "\n",
    "# LOGISTIC REGRESSION \n",
    "log_reg = LogisticRegression(random_state=1)                                   # Lets train/fit our data\n",
    "log_reg.fit(X,Y)\n",
    "\n",
    "y_pred_log = log_reg.predict(X_new)                                            # Test our Training data\n",
    "\n",
    "\n",
    "cm_log = confusion_matrix(Y_new, y_pred_log)                                   # Confusion matrix\n",
    "\n",
    "Acc_log = log_reg.score(X_new, Y_new)                                          # Find the accuracy of the model.    # or   accuracy_score = np.mean(y_pred_log == Y_new)\n",
    "\n",
    "Pre_log = cm_log[0,0]/(cm_log[0,0]+cm_log[0,1])                                # Find Precision # This is equal to Tp/(Tp + Fp)\n",
    "\n",
    "Rec_log = cm_log[0,0]/(cm_log[0,0] + cm_log[1,0])                              # Find Recall  # This is equal to Tp/(Tp + fn)\n",
    "\n",
    "F_one_log = 2*((Pre_log*Rec_log)/(Pre_log+Rec_log))                            # Find F1\n",
    " \n",
    "disp = plot_precision_recall_curve(log_reg,X_new,Y_new)                        # Display Precision Recall Curve.\n",
    "disp.ax_.set_title('Logistic Regression')\n",
    "\n",
    "\n",
    "# SGD CLASSIFIER \n",
    "sgd_reg = SGDClassifier(random_state=1)                                        # Lets train/fit our data\n",
    "sgd_reg.fit(X,Y.ravel())\n",
    "\n",
    "y_pred_sgd = sgd_reg.predict(X_new)                                            # Test our Training data\n",
    "\n",
    "cm_sgd = confusion_matrix(Y_new, y_pred_sgd)                                   # Confusion matrix\n",
    "\n",
    "Acc_sgd = sgd_reg.score(X_new, Y_new)                                          # Find the accuracy of the model\n",
    "\n",
    "Pre_sgd = cm_sgd[0,0]/(cm_sgd[0,0]+cm_sgd[0,1])                                # Find Precision # This is equal to Tp/(Tp + Fp)\n",
    "\n",
    "Rec_sgd = cm_sgd[0,0]/(cm_sgd[0,0] + cm_sgd[1,0])                              # Find Recall  # This is equal to Tp/(Tp + fn)\n",
    "\n",
    "F_one_sgd = 2*((Pre_sgd*Rec_sgd)/(Pre_sgd+Rec_sgd))                            # Find F1\n",
    "\n",
    "disp = plot_precision_recall_curve(sgd_reg,X_new,Y_new)                               # Display Precision Recall Curve.\n",
    "disp.ax_.set_title('SGD Classifier')\n",
    "\n",
    "\n",
    "# Support Vector Classification LINEAR\n",
    "svm_clf = SVC(kernel=\"linear\",random_state = 1)\n",
    "svm_clf.fit(X, Y)\n",
    "\n",
    "y_pred_svm = svm_clf.predict(X_new)                                            # Test our Training data\n",
    "\n",
    "cm_svm = confusion_matrix(Y_new, y_pred_svm)                                   # Confusion matrix\n",
    "\n",
    "Acc_svm = np.mean(y_pred_svm == Y_new)                                         # Find the accuracy of the model. \n",
    "\n",
    "Pre_svm = cm_svm[0,0]/(cm_svm[0,0]+cm_svm[0,1])                                # Find Precision # This is equal to Tp/(Tp + Fp)\n",
    "\n",
    "Rec_svm = cm_svm[0,0]/(cm_svm[0,0] + cm_svm[1,0])                              # Find Recall  # This is equal to Tp/(Tp + fn)\n",
    "\n",
    "F_one_svm = 2*((Pre_svm*Rec_svm)/(Pre_svm+Rec_svm))                            # Find F1\n",
    "\n",
    "disp = plot_precision_recall_curve(svm_clf,X_new,Y_new)                               # Display Precision Recall Curve.\n",
    "disp = disp.ax_.set_title('Linear Support Vector Classifier')\n",
    "\n",
    "\n",
    "# Support Vector Classification POLYNOMIAL\n",
    "svm_clf_poly = SVC(kernel=\"poly\",random_state = 1)\n",
    "svm_clf_poly.fit(X, Y)\n",
    "\n",
    "y_pred_svm_poly = svm_clf_poly.predict(X_new)                                  # Test our Training data\n",
    "\n",
    "cm_svm_poly = confusion_matrix(Y_new, y_pred_svm_poly)                         # Confusion matrix\n",
    "\n",
    "Acc_svm_poly = np.mean(y_pred_svm_poly == Y_new)                               # Find the accuracy of the model. \n",
    "\n",
    "Pre_svm_poly = cm_svm_poly[0,0]/(cm_svm_poly[0,0]+cm_svm_poly[0,1])            # Find Precision # This is equal to Tp/(Tp + Fp)\n",
    "\n",
    "Rec_svm_poly = cm_svm_poly[0,0]/(cm_svm_poly[0,0] + cm_svm_poly[1,0])          # Find Recall  # This is equal to Tp/(Tp + fn)\n",
    "\n",
    "F_one_svm_poly = 2*((Pre_svm_poly*Rec_svm_poly)/(Pre_svm_poly+Rec_svm_poly))   # Find F1\n",
    "\n",
    "disp = plot_precision_recall_curve(svm_clf_poly,X_new,Y_new)                          # Display Precision Recall Curve.\n",
    "disp.ax_.set_title('Polynomial Support Vector Classifier')\n",
    "\n",
    "\n",
    "# Support Vector Classification RBF\n",
    "svm_clf_RBF = SVC(kernel=\"rbf\",random_state = 1)\n",
    "svm_clf_RBF.fit(X, Y)\n",
    "\n",
    "y_pred_svm_RBF = svm_clf_RBF.predict(X_new)                                    # Test our Training data\n",
    "\n",
    "cm_svm_RBF = confusion_matrix(Y_new, y_pred_svm_RBF)                           # Confusion matrix\n",
    "\n",
    "Acc_svm_RBF = np.mean(y_pred_svm_RBF == Y_new)                                 # Find the accuracy of the model. \n",
    "\n",
    "Pre_svm_RBF = cm_svm_RBF[0,0]/(cm_svm_RBF[0,0]+cm_svm_RBF[0,1])                # Find Precision # This is equal to Tp/(Tp + Fp)\n",
    "\n",
    "Rec_svm_RBF = cm_svm_RBF[0,0]/(cm_svm_RBF[0,0] + cm_svm_RBF[1,0])              # Find Recall  # This is equal to Tp/(Tp + fn)\n",
    "\n",
    "F_one_svm_RBF = 2*((Pre_svm_RBF*Rec_svm_RBF)/(Pre_svm_RBF+Rec_svm_RBF))        # Find F1\n",
    "\n",
    "disp = plot_precision_recall_curve(svm_clf_RBF,X_new,Y_new)                           # Display Precision Recall Curve\n",
    "disp.ax_.set_title('RBF Support Vector Classifier')\n",
    "\n",
    "\n",
    "# Support Vector Classification SIGMOID\n",
    "svm_clf_sigmoid = SVC(kernel=\"sigmoid\",random_state = 1)\n",
    "svm_clf_sigmoid.fit(X, Y)\n",
    "\n",
    "y_pred_svm_sigmoid = svm_clf_sigmoid.predict(X_new)                            # Test our Training data\n",
    "\n",
    "cm_svm_sigmoid = confusion_matrix(Y_new, y_pred_svm_sigmoid)                   # Confusion matrix\n",
    "\n",
    "Acc_svm_sigmoid = np.mean(y_pred_svm_sigmoid == Y_new)                         # Find the accuracy of the model. \n",
    "\n",
    "Pre_svm_sigmoid = cm_svm_sigmoid[0,0]/(cm_svm_sigmoid[0,0]+cm_svm_sigmoid[0,1])              # Find Precision # This is equal to Tp/(Tp + Fp)\n",
    "\n",
    "Rec_svm_sigmoid = cm_svm_sigmoid[0,0]/(cm_svm_sigmoid[0,0] + cm_svm_sigmoid[1,0])            # Find Recall  # This is equal to Tp/(Tp + fn)\n",
    "\n",
    "F_one_svm_sigmoid = 2*((Pre_svm_sigmoid*Rec_svm_sigmoid)/(Pre_svm_sigmoid+Rec_svm_sigmoid))  # Find F1\n",
    "\n",
    "disp = plot_precision_recall_curve(svm_clf_sigmoid,X_new,Y_new)                                     # Display Precision Recall Curve\n",
    "disp.ax_.set_title('Sigmoid Support Vector Classifier')\n",
    "\n",
    "\n",
    "# Display results\n",
    "# Show confusion matrix, accuracy, precision, recall, and f-1 score. Show up to 5 decimal digits\n",
    "print(\"For each Classification Method I will show the Confusion Matrix, Accuracy, Precision, Recall, and f-1 score.\",\"\\n\"*2,\n",
    "     \"\\t\",\"Logistic Regression\",\"\\n\",\n",
    "     \"Confusion Matrix:\",\"\\n\",cm_log,\"\\n\",\n",
    "     \"Accuracy:\",Acc_log.round(5),\"\\n\",\n",
    "     \"Precision:\",Pre_log.round(5),\"\\n\",\n",
    "     \"Recall:\",Rec_log.round(5),\"\\n\",\n",
    "     \"f-1 score:\", F_one_log.round(5),\"\\n\"*2,\n",
    "     \"\\t\",\"SGD Classifier\",\"\\n\",\n",
    "     \"Confusion Matrix:\",\"\\n\",cm_sgd,\"\\n\",\n",
    "     \"Accuracy:\",Acc_sgd.round(5),\"\\n\",\n",
    "     \"Precision:\",Pre_sgd.round(5),\"\\n\",\n",
    "     \"Recall:\",Rec_sgd.round(5),\"\\n\",\n",
    "     \"f-1 score:\", F_one_sgd.round(5),\"\\n\"*2,\n",
    "     \"\\t\",\"Linear Support Vector Classifier\",\"\\n\",\n",
    "     \"Confusion Matrix:\",\"\\n\",cm_svm,\"\\n\",\n",
    "     \"Accuracy:\",Acc_svm.round(5),\"\\n\",\n",
    "     \"Precision:\",Pre_svm.round(5),\"\\n\",\n",
    "     \"Recall:\",Rec_svm.round(5),\"\\n\",\n",
    "     \"f-1 score:\", F_one_svm.round(5),\"\\n\"*2,\n",
    "     \"\\t\",\"Polynomial Support Vector Classifier\",\"\\n\",\n",
    "     \"Confusion Matrix:\",\"\\n\",cm_svm_poly,\"\\n\",\n",
    "     \"Accuracy:\",Acc_svm_poly.round(5),\"\\n\",\n",
    "     \"Precision:\",Pre_svm_poly.round(5),\"\\n\",\n",
    "     \"Recall:\",Rec_svm_poly.round(5),\"\\n\",\n",
    "     \"f-1 score:\", F_one_svm_poly.round(5),\"\\n\"*2,\n",
    "     \"\\t\",\"RBF Support Vector Classifier\",\"\\n\",\n",
    "     \"Confusion Matrix:\",\"\\n\",cm_svm_RBF,\"\\n\",\n",
    "     \"Accuracy:\",Acc_svm_RBF.round(5),\"\\n\",\n",
    "     \"Precision:\",Pre_svm_RBF.round(5),\"\\n\",\n",
    "     \"Recall:\",Rec_svm_RBF.round(5),\"\\n\",\n",
    "     \"f-1 score:\", F_one_svm_RBF.round(5),\"\\n\"*2,\n",
    "     \"\\t\",\"Sigmoid Support Vector Classifier\",\"\\n\",\n",
    "     \"Confusion Matrix:\",\"\\n\",cm_svm_sigmoid,\"\\n\",\n",
    "     \"Accuracy:\",Acc_svm_sigmoid.round(5),\"\\n\",\n",
    "     \"Precision:\",Pre_svm_sigmoid.round(5),\"\\n\",\n",
    "     \"Recall:\",Rec_svm_sigmoid.round(5),\"\\n\",\n",
    "     \"f-1 score:\", F_one_svm_sigmoid.round(5),\"\\n\"*2,)\n",
    "\n",
    "# Support Vector Classification LINEAR"
   ]
  },
  {
   "cell_type": "markdown",
   "metadata": {},
   "source": [
    "# Problem 2"
   ]
  },
  {
   "cell_type": "markdown",
   "metadata": {},
   "source": [
    "(1 point) From Problem 1, you should have noticed that SVC with the Sigmoid kernel performs poorly. Improve the classifier to an accuracy higher than 90% by either performing data processing before training or assigning different parameters to the classifier. State clearly your method of accuracy enhancement.\n",
    "\n",
    "Only the solutions which successfully imporve the accuracy above 90% will get 1 point. Otherwise, no partial points will be given for this problem. So, leave the cell empty if you are unable to find a solution.\n",
    "\n",
    "When you are able to improve accuracy successfully, draw a plot precision-recall curve again. You will see a significant change in the shape of the curve."
   ]
  },
  {
   "cell_type": "code",
   "execution_count": 7,
   "metadata": {
    "scrolled": true
   },
   "outputs": [],
   "source": [
    "# Your solution goes in this cell.\n",
    "# My idea was to try to normalize the training data but I do not have enough time to complete this step. "
   ]
  },
  {
   "cell_type": "markdown",
   "metadata": {},
   "source": [
    "# Problem 3"
   ]
  },
  {
   "cell_type": "markdown",
   "metadata": {},
   "source": [
    "(2 points) Using the original dataset and the selected classifiers with default parameters (with an exception of **random_state=1**), perform 3-fold cross validation and report the results (programmatically, of course)."
   ]
  },
  {
   "cell_type": "code",
   "execution_count": 8,
   "metadata": {
    "scrolled": true
   },
   "outputs": [
    {
     "name": "stdout",
     "output_type": "stream",
     "text": [
      "The 3 fold cross validation for all the different type of classifiers I used are as follows: \n",
      " Logisitic Regression: \t\t\t\t [0.98986566 0.98656611 0.9879802 ] \n",
      " SGD Classifier: \t\t\t\t [0.85906198 0.97784586 0.96747584] \n",
      " Linear Support Vector Classifier: \t\t [0.99104407 0.9879802  0.98821588] \n",
      " Polynomial Support Vector Classifier: \t\t [0.92717417 0.92905963 0.92081075] \n",
      " RBF Support Vector Classification: \t\t [0.92552439 0.92858826 0.91892529] \n",
      " Sigmoid Support Vector Classification: \t [0.14989394 0.15696441 0.14305916]\n"
     ]
    }
   ],
   "source": [
    "# Your solution goes in this cell.\n",
    "# LOGISTIC REGRESSION \n",
    "Cross_log = cross_val_score(log_reg,X,Y, cv=3)\n",
    "\n",
    "# SGD CLASSIFIER \n",
    "Cross_SGD = cross_val_score(sgd_reg,X,Y, cv=3)\n",
    "\n",
    "# Support Vector Classification LINEAR\n",
    "Cross_svm = cross_val_score(svm_clf,X,Y, cv=3)\n",
    "\n",
    "# Support Vector Classification POLYNOMIAL\n",
    "Cross_poly = cross_val_score(svm_clf_poly,X,Y, cv=3)\n",
    "\n",
    "# Support Vector Classification RBF\n",
    "Cross_RBF = cross_val_score(svm_clf_RBF,X,Y, cv=3)\n",
    "\n",
    "# Support Vector Classification SIGMOID\n",
    "Cross_sigmoid = cross_val_score(svm_clf_sigmoid,X,Y, cv=3)\n",
    "\n",
    "# Display Results\n",
    "print(\"The 3 fold cross validation for all the different type of classifiers I used are as follows:\",\"\\n\",\n",
    "     \"Logisitic Regression:\",\"\\t\"*4,Cross_log,\"\\n\",\n",
    "     \"SGD Classifier:\",\"\\t\"*4,Cross_SGD,\"\\n\",\n",
    "     \"Linear Support Vector Classifier:\",\"\\t\"*2,Cross_svm,\"\\n\",\n",
    "     \"Polynomial Support Vector Classifier:\",\"\\t\"*2,Cross_poly,\"\\n\",\n",
    "     \"RBF Support Vector Classification:\",\"\\t\"*2,Cross_RBF,\"\\n\",\n",
    "     \"Sigmoid Support Vector Classification:\",\"\\t\"*1,Cross_sigmoid)"
   ]
  }
 ],
 "metadata": {
  "colab": {
   "collapsed_sections": [],
   "name": "colab-tutorial.ipynb",
   "provenance": []
  },
  "kernelspec": {
   "display_name": "Python 3",
   "language": "python",
   "name": "python3"
  },
  "language_info": {
   "codemirror_mode": {
    "name": "ipython",
    "version": 3
   },
   "file_extension": ".py",
   "mimetype": "text/x-python",
   "name": "python",
   "nbconvert_exporter": "python",
   "pygments_lexer": "ipython3",
   "version": "3.8.3"
  }
 },
 "nbformat": 4,
 "nbformat_minor": 1
}
